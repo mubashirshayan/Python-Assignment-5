{
  "nbformat": 4,
  "nbformat_minor": 0,
  "metadata": {
    "colab": {
      "provenance": []
    },
    "kernelspec": {
      "name": "python3",
      "display_name": "Python 3"
    },
    "language_info": {
      "name": "python"
    }
  },
  "cells": [
    {
      "cell_type": "markdown",
      "source": [
        "Problem 1: Tuple Basics\n",
        "\n",
        "Create a tuple named student_info that contains the following information in this order:\n",
        "\n",
        "Name: \"Alice\"\n",
        "\n",
        "Age: 20\n",
        "\n",
        "Major: \"Computer Science\"\n",
        "\n",
        "Then, print the tuple and its length."
      ],
      "metadata": {
        "id": "L0UXm8mXcuQj"
      }
    },
    {
      "cell_type": "code",
      "source": [
        "student_info = ('Alice',20,\"Computer Science\")"
      ],
      "metadata": {
        "id": "xTQy6coWYCsu"
      },
      "execution_count": null,
      "outputs": []
    },
    {
      "cell_type": "code",
      "source": [
        "student_info"
      ],
      "metadata": {
        "colab": {
          "base_uri": "https://localhost:8080/"
        },
        "id": "SdI6fFD-YTP7",
        "outputId": "64ae1c1a-a292-43e3-bf09-5b1fe6b9edc9"
      },
      "execution_count": null,
      "outputs": [
        {
          "output_type": "execute_result",
          "data": {
            "text/plain": [
              "('Alice', 20, 'Computer Science')"
            ]
          },
          "metadata": {},
          "execution_count": 2
        }
      ]
    },
    {
      "cell_type": "code",
      "source": [
        "len(student_info)"
      ],
      "metadata": {
        "colab": {
          "base_uri": "https://localhost:8080/"
        },
        "id": "-PzxPzJrYVzQ",
        "outputId": "47bf5ee7-b4b5-422a-9eec-155b2c0f63d8"
      },
      "execution_count": null,
      "outputs": [
        {
          "output_type": "execute_result",
          "data": {
            "text/plain": [
              "3"
            ]
          },
          "metadata": {},
          "execution_count": 3
        }
      ]
    },
    {
      "cell_type": "markdown",
      "source": [
        "Problem 2: Access Tuple Elements\n",
        "\n",
        "Given the tuple student_info from Problem 1, write code to:\n",
        "\n",
        "Print only the student's name.\n",
        "\n",
        "Print the major using negative indexing"
      ],
      "metadata": {
        "id": "3wQwy39VdjZZ"
      }
    },
    {
      "cell_type": "code",
      "source": [
        "student_info[0]"
      ],
      "metadata": {
        "id": "cgb-R7cfYofU",
        "colab": {
          "base_uri": "https://localhost:8080/",
          "height": 35
        },
        "outputId": "6442d5d9-200a-41aa-d8fc-6f76f4a2a4d3"
      },
      "execution_count": null,
      "outputs": [
        {
          "output_type": "execute_result",
          "data": {
            "text/plain": [
              "'Alice'"
            ],
            "application/vnd.google.colaboratory.intrinsic+json": {
              "type": "string"
            }
          },
          "metadata": {},
          "execution_count": 4
        }
      ]
    },
    {
      "cell_type": "code",
      "source": [
        "student_info[-1]"
      ],
      "metadata": {
        "colab": {
          "base_uri": "https://localhost:8080/",
          "height": 35
        },
        "id": "7-yxpdmfYsma",
        "outputId": "02db567f-7c50-41e1-c756-6e35aebe0bfc"
      },
      "execution_count": null,
      "outputs": [
        {
          "output_type": "execute_result",
          "data": {
            "text/plain": [
              "'Computer Science'"
            ],
            "application/vnd.google.colaboratory.intrinsic+json": {
              "type": "string"
            }
          },
          "metadata": {},
          "execution_count": 5
        }
      ]
    },
    {
      "cell_type": "markdown",
      "source": [
        "Problem 3: Tuple Unpacking\n",
        "\n",
        "Unpack the values of student_info into three separate variables: name, age, and major, and print each of them."
      ],
      "metadata": {
        "id": "ulmdt8L2d-s4"
      }
    },
    {
      "cell_type": "code",
      "source": [
        "name = student_info[0]\n",
        "age = student_info[1]\n",
        "major = student_info[2]"
      ],
      "metadata": {
        "id": "p9bhy22Hec2H"
      },
      "execution_count": null,
      "outputs": []
    },
    {
      "cell_type": "code",
      "source": [
        "name\n"
      ],
      "metadata": {
        "id": "vzSt6j6gY-hd",
        "colab": {
          "base_uri": "https://localhost:8080/",
          "height": 35
        },
        "outputId": "b5338a2c-5d14-4b3d-fa55-e4b8ab38f9e7"
      },
      "execution_count": null,
      "outputs": [
        {
          "output_type": "execute_result",
          "data": {
            "text/plain": [
              "'Alice'"
            ],
            "application/vnd.google.colaboratory.intrinsic+json": {
              "type": "string"
            }
          },
          "metadata": {},
          "execution_count": 13
        }
      ]
    },
    {
      "cell_type": "code",
      "source": [
        "age"
      ],
      "metadata": {
        "colab": {
          "base_uri": "https://localhost:8080/"
        },
        "id": "-skEaiSFfIWc",
        "outputId": "0e6ee450-1c73-4b5e-aa06-aa5a9c606551"
      },
      "execution_count": null,
      "outputs": [
        {
          "output_type": "execute_result",
          "data": {
            "text/plain": [
              "20"
            ]
          },
          "metadata": {},
          "execution_count": 14
        }
      ]
    },
    {
      "cell_type": "code",
      "source": [
        "major"
      ],
      "metadata": {
        "colab": {
          "base_uri": "https://localhost:8080/",
          "height": 35
        },
        "id": "QdFmmZO7ZG6-",
        "outputId": "a003b1de-7425-4c6e-93f1-4d4d7bff6910"
      },
      "execution_count": null,
      "outputs": [
        {
          "output_type": "execute_result",
          "data": {
            "text/plain": [
              "'Computer Science'"
            ],
            "application/vnd.google.colaboratory.intrinsic+json": {
              "type": "string"
            }
          },
          "metadata": {},
          "execution_count": 15
        }
      ]
    },
    {
      "cell_type": "markdown",
      "source": [
        "unpacking tuple different tuple method"
      ],
      "metadata": {
        "id": "VCfUDICWfRN7"
      }
    },
    {
      "cell_type": "code",
      "source": [
        "name,age,major = student_info"
      ],
      "metadata": {
        "id": "xMSDQvgMZO4N"
      },
      "execution_count": null,
      "outputs": []
    },
    {
      "cell_type": "code",
      "source": [],
      "metadata": {
        "id": "q4SsYoChfkUU"
      },
      "execution_count": null,
      "outputs": []
    },
    {
      "cell_type": "markdown",
      "source": [
        "Problem 4: Iterate Over a Tuple\n",
        "\n",
        "You are given a tuple of numbers:\n",
        "\n",
        "numbers = (2, 5, 8, 3, 7)\n",
        "\n",
        "\n",
        "Write a loop that prints each element of the tuple along with its square.\n"
      ],
      "metadata": {
        "id": "NP59aBgAfxnL"
      }
    },
    {
      "cell_type": "code",
      "source": [
        "numbers = (2, 5, 8, 3, 7)"
      ],
      "metadata": {
        "id": "NL6ZU-Enf0gN"
      },
      "execution_count": null,
      "outputs": []
    },
    {
      "cell_type": "code",
      "source": [
        "type(numbers)"
      ],
      "metadata": {
        "colab": {
          "base_uri": "https://localhost:8080/"
        },
        "id": "DE-bZExOf4Lb",
        "outputId": "8ce36014-b930-4f7c-b992-42aa9b6364ad"
      },
      "execution_count": null,
      "outputs": [
        {
          "output_type": "execute_result",
          "data": {
            "text/plain": [
              "tuple"
            ]
          },
          "metadata": {},
          "execution_count": 19
        }
      ]
    },
    {
      "cell_type": "code",
      "source": [
        "for square in numbers:\n",
        "  print(square**2)"
      ],
      "metadata": {
        "colab": {
          "base_uri": "https://localhost:8080/"
        },
        "id": "enJw6--Phcaj",
        "outputId": "1c2e50dc-afb5-45e7-ebca-4c637c36d6af"
      },
      "execution_count": null,
      "outputs": [
        {
          "output_type": "stream",
          "name": "stdout",
          "text": [
            "4\n",
            "25\n",
            "64\n",
            "9\n",
            "49\n"
          ]
        }
      ]
    },
    {
      "cell_type": "code",
      "source": [
        "dir(())"
      ],
      "metadata": {
        "colab": {
          "base_uri": "https://localhost:8080/"
        },
        "id": "eQSyoAaHhv_K",
        "outputId": "9fae7bd6-7a41-4864-df02-694f397acc2a"
      },
      "execution_count": null,
      "outputs": [
        {
          "output_type": "execute_result",
          "data": {
            "text/plain": [
              "['__add__',\n",
              " '__class__',\n",
              " '__class_getitem__',\n",
              " '__contains__',\n",
              " '__delattr__',\n",
              " '__dir__',\n",
              " '__doc__',\n",
              " '__eq__',\n",
              " '__format__',\n",
              " '__ge__',\n",
              " '__getattribute__',\n",
              " '__getitem__',\n",
              " '__getnewargs__',\n",
              " '__getstate__',\n",
              " '__gt__',\n",
              " '__hash__',\n",
              " '__init__',\n",
              " '__init_subclass__',\n",
              " '__iter__',\n",
              " '__le__',\n",
              " '__len__',\n",
              " '__lt__',\n",
              " '__mul__',\n",
              " '__ne__',\n",
              " '__new__',\n",
              " '__reduce__',\n",
              " '__reduce_ex__',\n",
              " '__repr__',\n",
              " '__rmul__',\n",
              " '__setattr__',\n",
              " '__sizeof__',\n",
              " '__str__',\n",
              " '__subclasshook__',\n",
              " 'count',\n",
              " 'index']"
            ]
          },
          "metadata": {},
          "execution_count": 29
        }
      ]
    },
    {
      "cell_type": "markdown",
      "source": [
        "Problem 5: Tuple Method\n",
        "Initilize a tuple and using a tuple method"
      ],
      "metadata": {
        "id": "kkqYIUXVjE5u"
      }
    },
    {
      "cell_type": "code",
      "source": [
        "food = (\"biryani\",250,\"pizza\",600,\"burger\",450,\"cake\",700,'pizza large',1200)"
      ],
      "metadata": {
        "id": "VXDNfolViVB4"
      },
      "execution_count": null,
      "outputs": []
    },
    {
      "cell_type": "code",
      "source": [
        "food.count(\"pizza\")"
      ],
      "metadata": {
        "colab": {
          "base_uri": "https://localhost:8080/"
        },
        "id": "Nj2YiOr5kDu3",
        "outputId": "3af5b530-3193-494a-a38f-9a980c1eee08"
      },
      "execution_count": null,
      "outputs": [
        {
          "output_type": "execute_result",
          "data": {
            "text/plain": [
              "1"
            ]
          },
          "metadata": {},
          "execution_count": 34
        }
      ]
    },
    {
      "cell_type": "code",
      "source": [
        "food.index(600)"
      ],
      "metadata": {
        "colab": {
          "base_uri": "https://localhost:8080/"
        },
        "id": "AZz2OUMti3AG",
        "outputId": "26e85889-7c8f-4a21-edd2-2ba5a12ebf2d"
      },
      "execution_count": null,
      "outputs": [
        {
          "output_type": "execute_result",
          "data": {
            "text/plain": [
              "3"
            ]
          },
          "metadata": {},
          "execution_count": 33
        }
      ]
    }
  ]
}